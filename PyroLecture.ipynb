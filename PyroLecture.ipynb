{
  "cells": [
    {
      "cell_type": "markdown",
      "id": "0bfbea65",
      "metadata": {
        "id": "0bfbea65"
      },
      "source": [
        "# A Quick Refresher on Probabilistic Machine Learning\n",
        "Most data analysis problems can be understood as elaborations on three basic high-level questions:\n",
        "\n",
        "    1. What do we know about the problem before observing any data?\n",
        "    2. What conclusions can we draw from data given our prior knowledge?\n",
        "    3. Do these conclusions make sense?\n",
        "\n",
        "In the probabilistic or Bayesian approach to data science and machine learning, we formalize these questions in terms of mathematical operations on probability distributions."
      ]
    },
    {
      "cell_type": "markdown",
      "id": "46c60764",
      "metadata": {
        "id": "46c60764"
      },
      "source": [
        "## A Probabilistic Model\n",
        "\n",
        "First, we express everything we know about the variables in a problem and the relationships between them in the form of a probabilistic model, i.e. a joint probability distribution over a collection of random variables. A model has observations $\\mathbf{x}$ and latent random variables $\\mathbf{z}$ as well as parameters $\\theta$. It usually has a joint density function of the form:\n",
        "$$\n",
        "    p_{\\theta} (\\mathbf{x}, \\mathbf{z}) = p_{\\theta}(\\mathbf{x} \\mid \\mathbf{z}) p_{\\theta} (\\mathbf{z})\n",
        "$$"
      ]
    },
    {
      "cell_type": "markdown",
      "id": "252a6522",
      "metadata": {
        "id": "252a6522"
      },
      "source": [
        "Probabilistic models are often depicted in standard graphical notation (i.e., as a Probabilistic Graphical Model (PGM)) for visualization and communication, although it is possible to conceive models that do not have a fixed graphical structure.\n",
        "\n",
        "Below is an example of a PGM of the Latent Dirichlet Allocation model [1]:\n",
        "\n",
        "![Latent Dirichlet Allocation](https://www.researchgate.net/profile/Diego-Buenano-Fernandez/publication/339368709/figure/fig1/AS:860489982689280@1582168207260/Schematic-of-LDA-algorithm.png)"
      ]
    },
    {
      "cell_type": "markdown",
      "id": "d2f83821",
      "metadata": {
        "id": "d2f83821"
      },
      "source": [
        "### Performing Inference on the Model\n",
        "\n",
        "Once we have specified a model, Bayes’ rule tells us how to use it to perform inference, i.e. draw conclusions about latent variables from data by computing the posterior distribution over $\\mathbf{z}$:\n",
        "$$\n",
        "    p_{\\theta} (\\mathbf{z} \\mid \\mathbf{x}) = \\frac{p_{\\theta} (\\mathbf{x}, \\mathbf{z})}{\\int p_{\\theta} (\\mathbf{x}, \\mathbf{z}) d\\mathbf{z}}\n",
        "$$\n",
        "\n",
        "The denominator is called model evidence:\n",
        "$$\n",
        "\\int p_{\\theta} (\\mathbf{x}, \\mathbf{z}) d\\mathbf{z} = p_{\\theta} (\\mathbf{x})\n",
        "$$\n",
        "\n",
        "We would also like to learn the parameters $\\theta$ that best fit the data, which we can do by maximizing log evidence:\n",
        "\n",
        "$$\n",
        "    \\theta_{max} = \\underset{\\theta}{\\operatorname{argmax}} \\log p_{\\theta} (\\mathbf{x})\n",
        "$$"
      ]
    },
    {
      "cell_type": "markdown",
      "id": "b2865536",
      "metadata": {
        "id": "b2865536"
      },
      "source": [
        "### The Issue of Computing Evidence\n",
        "\n",
        "Evidence is often difficult to compute (analytically untractable), but we need to do it to be able to perform inference. To solve this hurdle we can resort to Approximate Bayesian Inference (ABI) where distributions difficult to compute are approximated. Roughly, it is comprised of two main groups of techniques:\n",
        "  - **sampling based methods** (Markov Chain Monte Carlo (MCMC))\n",
        "  - **optimization based methods** (Variational Inference (VI))\n"
      ]
    },
    {
      "cell_type": "markdown",
      "id": "14cb8e01",
      "metadata": {
        "id": "14cb8e01"
      },
      "source": [
        "# Variational Inference (VI)\n",
        "\n",
        "## The Fundamental Idea Behind VI\n",
        "\n",
        "The underlying paradigm is that of using *optimization* instead of *sampling* to arrive at an approximate posterior. The idea behind variational inference is to select a family of distributions $\\mathcal{Q}$ parameterized by a parameter set $\\lambda$, from which we choose a member $q_{\\lambda^*}(\\mathbf{z})$ that minimizes a distance measure (the Kullback-Leibler divergence) between the approximate posterior and the exact posterior:\n",
        "$$\n",
        "    q_{\\lambda^*}(\\mathbf{z}) = \\underset{q_{\\lambda}(\\mathbf{z}) \\in \\mathcal{Q}}{\\operatorname{argmin}} \\textrm{KL} (q_{\\lambda}(\\mathbf{z}) \\mid p_{\\theta}(\\mathbf{z} \\mid \\mathbf{x}))\n",
        "$$\n",
        "\n",
        "We can call $\\mathcal{Q}$ the *variational family*, $q$ the *variational distribution*, and $\\lambda$ the *variational parameters*.\n",
        "\n",
        "![variational_inference](https://raw.githubusercontent.com/skeydan/whyR2019/master/blei_vi.png)\n",
        "\n",
        "## When to Use VI, and When to Use MCMC?\n",
        "\n",
        "Let us refer to David Blei's advice on the matter, as presented in [2]:\n",
        "\n",
        "> \"Compared to MCMC, variational inference tends to be faster and easier to scale to large data. But variational inference has been studied less rigorously than MCMC, and its statistical properties are less well understood. MCMC methods tend to be more computationally intensive than variational inference but they also provide guarantees of producing (asymptotically) exact samples from the target density. Variational inference does not enjoy such guarantees, it can only find a density close to the target, but tends to be faster than MCMC. Because it rests on optimization, variational inference easily takes advantage of methods like stochastic optimization.\"\n",
        "\n",
        "> \"For example, we might use MCMC in a setting where we spent 20 years collecting a small but expensive data set, where we are confident that our model is appropriate, and where we require precise inferences. We might use variational inference when fitting a probabilistic model of text to one billion text documents and where the inferences will be used to serve search results to a large population of users.\""
      ]
    },
    {
      "cell_type": "markdown",
      "id": "1e4aa3f7",
      "metadata": {
        "id": "1e4aa3f7"
      },
      "source": [
        "## ELBO\n",
        "\n",
        "The above objective cannot be optimized directly, as it depends on the log evidence. We can instead mximize a proxy objective called the Evidence Lower Bound (ELBO):\n",
        "$$\n",
        "    \\textrm{ELBO} = \\mathbb{E}_{q_{\\lambda} (\\mathbf{z})} \\left[ \\log p_{\\theta} (\\mathbf{x}, \\mathbf{z}) - \\log q_{\\lambda} (\\mathbf{z}) \\right]\n",
        "$$\n",
        "\n",
        "The connection between the two is:\n",
        "$$\n",
        "    \\log p_{\\theta} (\\mathbf{x}) - \\textrm{ELBO} = \\textrm{KL} (q_{\\lambda}(\\mathbf{z}) \\mid p_{\\theta}(\\mathbf{z} \\mid \\mathbf{x}))\n",
        "$$\n",
        "\n",
        "Our optimization objective is now to maximize $\\textrm{ELBO}$ or minimize $ - \\textrm{ELBO}$ by moving in the $\\theta$ - $\\lambda$ parameter space."
      ]
    },
    {
      "cell_type": "markdown",
      "id": "79019302",
      "metadata": {
        "id": "79019302"
      },
      "source": [
        "## Stochastic Optimization\n",
        "\n",
        "![SGD](https://builtin.com/sites/www.builtin.com/files/styles/ckeditor_optimize/public/inline-images/national/gradient-descent-range.png)\n",
        "\n",
        "Hence, to proceed we must choose an optimization method for our objective function. In modern machine learning **stochastic gradient descent (SGD)** is widely used as an optimization method.\n",
        "\n",
        "Let $f(\\dots)$ be an objective function to minimize, $h_t (x)$ the realization of a RV $H(x)$ whose expectation is the gradient of $f$, and $\\rho_t$ a non-negative scalar. Then we can define stochastic optimization as iterative updates of parameters of the form [3]:\n",
        "$$\n",
        "    x_{t+1} \\leftarrow x_t - \\rho_t h_t(x)\n",
        "$$\n",
        "[Under certain conditions](https://projecteuclid.org/journals/annals-of-mathematical-statistics/volume-22/issue-3/A-Stochastic-Approximation-Method/10.1214/aoms/1177729586.full) on $\\rho_t$, $f(x)$ converges to a minimum."
      ]
    },
    {
      "cell_type": "markdown",
      "id": "d548e7d0",
      "metadata": {
        "id": "d548e7d0"
      },
      "source": [
        "## Wouldn't it be nice...\n",
        "\n",
        " - to have a programmatic way to express **ANY** probabilistic program\n",
        " - have at our disposal a series of **model agnostic inference algorithms**\n",
        "\n",
        "Probabilistic programming languages (PPL) do exactly that! They offer a universal way to express probabilistic programs, and furthermore offer general purpose inference algorithms that are abstracted away from the model."
      ]
    },
    {
      "cell_type": "markdown",
      "id": "976545cb",
      "metadata": {
        "id": "976545cb"
      },
      "source": [
        "# The Building Blocks of a PPL\n",
        "\n",
        "## Stochastic Primitives\n",
        "\n",
        "Stochastic primitives, also called Elementary Random Procedures (ERPs) are a set of functions/services that a PPL offers that fulfill fundamental operations necessary for building models and inference:\n",
        " + sampling;\n",
        " + conditioning on data (observations);\n",
        " + declaring a variable a parameter admitting optimization (the parameter is learnable).\n",
        "\n",
        "## Distributions\n",
        "\n",
        "We assume that the various probability distributions $d_i$ we use to define our model $p_{\\theta} (\\mathbf{x}, \\mathbf{z})$ have the following properties (speaking from a implementational point of view):\n",
        " - we can sample from each $d_i$;\n",
        " - we can compute the pointwise log pdf $\\log d_i$;\n",
        " - is differentiable w.r.t. the parameters $\\theta$.\n",
        "\n",
        "## Defining models\n",
        "\n",
        "A model is fundamentally an implementation of a stochastic function taking some arguments. We can thus treat it as any other function, but its outputs are going to be stochastic, i.e. they'll likely change from one function call to another. Calling this function effectively corresponds to sampling from it."
      ]
    },
    {
      "cell_type": "markdown",
      "id": "a5e3ea44",
      "metadata": {
        "id": "a5e3ea44"
      },
      "source": [
        "## The Public Interface of a PPL\n",
        "\n",
        "Let an imaginary PPL library be called `amazingppl`.\n",
        "\n",
        "Let sampling be done through a call to:\n",
        "```python\n",
        "def sample(name, fn, *args, **kwargs):\n",
        "    ...\n",
        "```\n",
        "\n",
        "And let conditioning be done through an optional argument to `sample`:\n",
        "```python\n",
        "amazingppl.sample(\"rv_1\", fn=..., obs=some_data)\n",
        "```\n",
        "\n",
        "The argument `fn` is a distribution object satisfying the above implementative requirements.\n",
        "\n",
        "Sampling without conditioning corresponds to declaring a RV latent (i.e. $\\mathbf{z}$), while sampling with conditioning declares it observed (i.e. $\\mathbf{x}$). The two together allow us to create generic probabilistic models."
      ]
    },
    {
      "cell_type": "markdown",
      "id": "f8247d02",
      "metadata": {
        "id": "f8247d02"
      },
      "source": [
        "Example:\n",
        "\n",
        "```python\n",
        "# A model of Bayesian linear regression\n",
        "def bayesian_lr_model(is_cont_africa, ruggedness, log_gdp):\n",
        "    # Sample intercept\n",
        "    a = amazingppl.sample(\"a\", dist.Normal(0., 10.))\n",
        "\n",
        "    # Sample regression coefficients\n",
        "    b_a = amazingppl.sample(\"bA\", dist.Normal(0., 1.))\n",
        "    b_r = amazingppl.sample(\"bR\", dist.Normal(0., 1.))\n",
        "    b_ar = amazingppl.sample(\"bAR\", dist.Normal(0., 1.))\n",
        "\n",
        "    # Mean and std dev of the response variable\n",
        "    sigma = amazingppl.sample(\"sigma\", dist.Uniform(0., 10.))\n",
        "    mean = a + b_a * is_cont_africa + b_r * ruggedness + b_ar * is_cont_africa * ruggedness\n",
        "\n",
        "    # Declare data conditionally independent\n",
        "    with amazingppl.plate(\"data\", len(ruggedness), dim=-1):\n",
        "        amazingppl.sample(\"obs\", dist.Normal(mean, sigma), obs=log_gdp)\n",
        "```"
      ]
    },
    {
      "cell_type": "markdown",
      "id": "0fd9e731",
      "metadata": {
        "id": "0fd9e731"
      },
      "source": [
        "Here we've added another library function - *plates*. They are syntactic sugar for declaring a dimension conditionally independent, and could in principle be replaced by a `for` loop."
      ]
    },
    {
      "cell_type": "markdown",
      "id": "142afbed",
      "metadata": {
        "id": "142afbed"
      },
      "source": [
        "## Defining a Variational Family, Variational Distribution, and Variational Parameters\n",
        "\n",
        "The definition of the variational distribution is going to be similar as that of the model. It is a stochastic function with **sample** statements, but with two distinctions:\n",
        " 1. Recall that the variational distribution $q (\\mathbf{z})$ is defined only over the latent variables $\\mathbf{z}$. Hence, we can't have observed sampled variables.\n",
        " 2. We declare learnable parameters that parameterise the distributions of sample statements over $\\mathbf{z}$. We can implement this with the **param** primitive function:\n",
        "    ```python\n",
        "        def param(\n",
        "            name, init_value, constraint,\n",
        "        )\n",
        "     ```\n",
        "     Parameters can be explicitly constrained to various subsets of $\\mathbb{R}^n$ by using torch.distributions.constraints.Constraint.\n",
        " 3. Sample statements in the implementation of the variational distribution need to correspond by name to the latent variables in the defined model."
      ]
    },
    {
      "cell_type": "markdown",
      "id": "cdf7b1ed",
      "metadata": {
        "id": "cdf7b1ed"
      },
      "source": [
        "For our example let us choose a mean field variational distribution. That is, we assume that the variational distribution factorizes as follows:\n",
        "$$\n",
        "    q(z_1, \\dots, z_m) = \\prod_{i=1}^m q(z_i)\n",
        "$$"
      ]
    },
    {
      "cell_type": "markdown",
      "id": "38eaedde",
      "metadata": {
        "id": "38eaedde"
      },
      "source": [
        "Example:\n",
        "\n",
        "```python\n",
        "# The simple guide for the Bayesian linear regression model\n",
        "def bayesian_lr_var_dist(is_cont_africa, ruggedness, log_gdp):\n",
        "    # Intercept distribution parameters\n",
        "    a_loc = amazingppl.param(\n",
        "        'a_loc', torch.tensor(0.)\n",
        "    )\n",
        "    a_scale = amazingppl.param(\n",
        "        'a_scale', torch.tensor(1.), constraint=constraints.positive\n",
        "    )\n",
        "\n",
        "    # Std dev parameter\n",
        "    sigma_loc = amazingppl.param(\n",
        "        'sigma_loc', torch.tensor(1.), constraint=constraints.positive\n",
        "    )\n",
        "\n",
        "    # Regression coefficients distribution parameters\n",
        "    weights_loc = amazingppl.param(\n",
        "        'weights_loc', torch.randn(3)\n",
        "    )\n",
        "    weights_scale = amazingppl.param(\n",
        "        'weights_scale', torch.ones(3), constraint=constraints.positive\n",
        "    )\n",
        "\n",
        "    # Sample from the variational distribution using the variational parameters\n",
        "    a = amazingppl.sample(\"a\", dist.Normal(a_loc, a_scale))\n",
        "\n",
        "    b_a = amazingppl.sample(\"bA\", dist.Normal(weights_loc[0], weights_scale[0]))\n",
        "    b_r = amazingppl.sample(\"bR\", dist.Normal(weights_loc[1], weights_scale[1]))\n",
        "    b_ar = amazingppl.sample(\"bAR\", dist.Normal(weights_loc[2], weights_scale[2]))\n",
        "\n",
        "    sigma = amazingppl.sample(\"sigma\", dist.Normal(sigma_loc, torch.tensor(0.05)))\n",
        "\n",
        "    # mean = a + b_a * is_cont_africa + b_r * ruggedness + b_ar * is_cont_africa * ruggedness\n",
        "```"
      ]
    },
    {
      "cell_type": "markdown",
      "id": "138b210f",
      "metadata": {
        "id": "138b210f"
      },
      "source": [
        "## Inference\n",
        "Aside from the definition of the model and the variational distribution as stochastic functions using stochastic primitives of our library, the remaining key abstractions for inference are:\n",
        " - **the optimizer** - responsible for keeping track of parameter values and updating their values based on the computed gradients;\n",
        " - **the objective function** - the ELBO;\n",
        " - **the object abstracting inference** - `SVI` class taking the model, the VD, optimizer and objective function, and handling all computation given some data.\n"
      ]
    },
    {
      "cell_type": "markdown",
      "id": "3e34b547",
      "metadata": {
        "id": "3e34b547"
      },
      "source": [
        "# Probabilistic Programming in Pyro"
      ]
    },
    {
      "cell_type": "markdown",
      "source": [
        "First let's install the required dependencies:"
      ],
      "metadata": {
        "id": "okFCGb4tZHSm"
      },
      "id": "okFCGb4tZHSm"
    },
    {
      "cell_type": "code",
      "source": [
        "!pip install pyro-ppl\n",
        "!pip install torch\n",
        "!pip install torchvision\n",
        "!pip install matplotlib"
      ],
      "metadata": {
        "colab": {
          "base_uri": "https://localhost:8080/"
        },
        "id": "ntzbtqEKZMTh",
        "outputId": "4a4f5b10-a3d0-4664-ab74-cf1519006a66"
      },
      "id": "ntzbtqEKZMTh",
      "execution_count": 1,
      "outputs": [
        {
          "output_type": "stream",
          "name": "stdout",
          "text": [
            "Collecting pyro-ppl\n",
            "  Downloading pyro_ppl-1.9.1-py3-none-any.whl (755 kB)\n",
            "\u001b[2K     \u001b[90m━━━━━━━━━━━━━━━━━━━━━━━━━━━━━━━━━━━━━━━━\u001b[0m \u001b[32m756.0/756.0 kB\u001b[0m \u001b[31m6.6 MB/s\u001b[0m eta \u001b[36m0:00:00\u001b[0m\n",
            "\u001b[?25hRequirement already satisfied: numpy>=1.7 in /usr/local/lib/python3.10/dist-packages (from pyro-ppl) (1.25.2)\n",
            "Requirement already satisfied: opt-einsum>=2.3.2 in /usr/local/lib/python3.10/dist-packages (from pyro-ppl) (3.3.0)\n",
            "Collecting pyro-api>=0.1.1 (from pyro-ppl)\n",
            "  Downloading pyro_api-0.1.2-py3-none-any.whl (11 kB)\n",
            "Requirement already satisfied: torch>=2.0 in /usr/local/lib/python3.10/dist-packages (from pyro-ppl) (2.3.1+cu121)\n",
            "Requirement already satisfied: tqdm>=4.36 in /usr/local/lib/python3.10/dist-packages (from pyro-ppl) (4.66.4)\n",
            "Requirement already satisfied: filelock in /usr/local/lib/python3.10/dist-packages (from torch>=2.0->pyro-ppl) (3.15.4)\n",
            "Requirement already satisfied: typing-extensions>=4.8.0 in /usr/local/lib/python3.10/dist-packages (from torch>=2.0->pyro-ppl) (4.12.2)\n",
            "Requirement already satisfied: sympy in /usr/local/lib/python3.10/dist-packages (from torch>=2.0->pyro-ppl) (1.13.0)\n",
            "Requirement already satisfied: networkx in /usr/local/lib/python3.10/dist-packages (from torch>=2.0->pyro-ppl) (3.3)\n",
            "Requirement already satisfied: jinja2 in /usr/local/lib/python3.10/dist-packages (from torch>=2.0->pyro-ppl) (3.1.4)\n",
            "Requirement already satisfied: fsspec in /usr/local/lib/python3.10/dist-packages (from torch>=2.0->pyro-ppl) (2023.6.0)\n",
            "Collecting nvidia-cuda-nvrtc-cu12==12.1.105 (from torch>=2.0->pyro-ppl)\n",
            "  Using cached nvidia_cuda_nvrtc_cu12-12.1.105-py3-none-manylinux1_x86_64.whl (23.7 MB)\n",
            "Collecting nvidia-cuda-runtime-cu12==12.1.105 (from torch>=2.0->pyro-ppl)\n",
            "  Using cached nvidia_cuda_runtime_cu12-12.1.105-py3-none-manylinux1_x86_64.whl (823 kB)\n",
            "Collecting nvidia-cuda-cupti-cu12==12.1.105 (from torch>=2.0->pyro-ppl)\n",
            "  Using cached nvidia_cuda_cupti_cu12-12.1.105-py3-none-manylinux1_x86_64.whl (14.1 MB)\n",
            "Collecting nvidia-cudnn-cu12==8.9.2.26 (from torch>=2.0->pyro-ppl)\n",
            "  Using cached nvidia_cudnn_cu12-8.9.2.26-py3-none-manylinux1_x86_64.whl (731.7 MB)\n",
            "Collecting nvidia-cublas-cu12==12.1.3.1 (from torch>=2.0->pyro-ppl)\n",
            "  Using cached nvidia_cublas_cu12-12.1.3.1-py3-none-manylinux1_x86_64.whl (410.6 MB)\n",
            "Collecting nvidia-cufft-cu12==11.0.2.54 (from torch>=2.0->pyro-ppl)\n",
            "  Using cached nvidia_cufft_cu12-11.0.2.54-py3-none-manylinux1_x86_64.whl (121.6 MB)\n",
            "Collecting nvidia-curand-cu12==10.3.2.106 (from torch>=2.0->pyro-ppl)\n",
            "  Using cached nvidia_curand_cu12-10.3.2.106-py3-none-manylinux1_x86_64.whl (56.5 MB)\n",
            "Collecting nvidia-cusolver-cu12==11.4.5.107 (from torch>=2.0->pyro-ppl)\n",
            "  Using cached nvidia_cusolver_cu12-11.4.5.107-py3-none-manylinux1_x86_64.whl (124.2 MB)\n",
            "Collecting nvidia-cusparse-cu12==12.1.0.106 (from torch>=2.0->pyro-ppl)\n",
            "  Using cached nvidia_cusparse_cu12-12.1.0.106-py3-none-manylinux1_x86_64.whl (196.0 MB)\n",
            "Collecting nvidia-nccl-cu12==2.20.5 (from torch>=2.0->pyro-ppl)\n",
            "  Using cached nvidia_nccl_cu12-2.20.5-py3-none-manylinux2014_x86_64.whl (176.2 MB)\n",
            "Collecting nvidia-nvtx-cu12==12.1.105 (from torch>=2.0->pyro-ppl)\n",
            "  Using cached nvidia_nvtx_cu12-12.1.105-py3-none-manylinux1_x86_64.whl (99 kB)\n",
            "Requirement already satisfied: triton==2.3.1 in /usr/local/lib/python3.10/dist-packages (from torch>=2.0->pyro-ppl) (2.3.1)\n",
            "Collecting nvidia-nvjitlink-cu12 (from nvidia-cusolver-cu12==11.4.5.107->torch>=2.0->pyro-ppl)\n",
            "  Downloading nvidia_nvjitlink_cu12-12.5.82-py3-none-manylinux2014_x86_64.whl (21.3 MB)\n",
            "\u001b[2K     \u001b[90m━━━━━━━━━━━━━━━━━━━━━━━━━━━━━━━━━━━━━━━━\u001b[0m \u001b[32m21.3/21.3 MB\u001b[0m \u001b[31m13.7 MB/s\u001b[0m eta \u001b[36m0:00:00\u001b[0m\n",
            "\u001b[?25hRequirement already satisfied: MarkupSafe>=2.0 in /usr/local/lib/python3.10/dist-packages (from jinja2->torch>=2.0->pyro-ppl) (2.1.5)\n",
            "Requirement already satisfied: mpmath<1.4,>=1.1.0 in /usr/local/lib/python3.10/dist-packages (from sympy->torch>=2.0->pyro-ppl) (1.3.0)\n",
            "Installing collected packages: pyro-api, nvidia-nvtx-cu12, nvidia-nvjitlink-cu12, nvidia-nccl-cu12, nvidia-curand-cu12, nvidia-cufft-cu12, nvidia-cuda-runtime-cu12, nvidia-cuda-nvrtc-cu12, nvidia-cuda-cupti-cu12, nvidia-cublas-cu12, nvidia-cusparse-cu12, nvidia-cudnn-cu12, nvidia-cusolver-cu12, pyro-ppl\n",
            "Successfully installed nvidia-cublas-cu12-12.1.3.1 nvidia-cuda-cupti-cu12-12.1.105 nvidia-cuda-nvrtc-cu12-12.1.105 nvidia-cuda-runtime-cu12-12.1.105 nvidia-cudnn-cu12-8.9.2.26 nvidia-cufft-cu12-11.0.2.54 nvidia-curand-cu12-10.3.2.106 nvidia-cusolver-cu12-11.4.5.107 nvidia-cusparse-cu12-12.1.0.106 nvidia-nccl-cu12-2.20.5 nvidia-nvjitlink-cu12-12.5.82 nvidia-nvtx-cu12-12.1.105 pyro-api-0.1.2 pyro-ppl-1.9.1\n",
            "Requirement already satisfied: torch in /usr/local/lib/python3.10/dist-packages (2.3.1+cu121)\n",
            "Requirement already satisfied: filelock in /usr/local/lib/python3.10/dist-packages (from torch) (3.15.4)\n",
            "Requirement already satisfied: typing-extensions>=4.8.0 in /usr/local/lib/python3.10/dist-packages (from torch) (4.12.2)\n",
            "Requirement already satisfied: sympy in /usr/local/lib/python3.10/dist-packages (from torch) (1.13.0)\n",
            "Requirement already satisfied: networkx in /usr/local/lib/python3.10/dist-packages (from torch) (3.3)\n",
            "Requirement already satisfied: jinja2 in /usr/local/lib/python3.10/dist-packages (from torch) (3.1.4)\n",
            "Requirement already satisfied: fsspec in /usr/local/lib/python3.10/dist-packages (from torch) (2023.6.0)\n",
            "Requirement already satisfied: nvidia-cuda-nvrtc-cu12==12.1.105 in /usr/local/lib/python3.10/dist-packages (from torch) (12.1.105)\n",
            "Requirement already satisfied: nvidia-cuda-runtime-cu12==12.1.105 in /usr/local/lib/python3.10/dist-packages (from torch) (12.1.105)\n",
            "Requirement already satisfied: nvidia-cuda-cupti-cu12==12.1.105 in /usr/local/lib/python3.10/dist-packages (from torch) (12.1.105)\n",
            "Requirement already satisfied: nvidia-cudnn-cu12==8.9.2.26 in /usr/local/lib/python3.10/dist-packages (from torch) (8.9.2.26)\n",
            "Requirement already satisfied: nvidia-cublas-cu12==12.1.3.1 in /usr/local/lib/python3.10/dist-packages (from torch) (12.1.3.1)\n",
            "Requirement already satisfied: nvidia-cufft-cu12==11.0.2.54 in /usr/local/lib/python3.10/dist-packages (from torch) (11.0.2.54)\n",
            "Requirement already satisfied: nvidia-curand-cu12==10.3.2.106 in /usr/local/lib/python3.10/dist-packages (from torch) (10.3.2.106)\n",
            "Requirement already satisfied: nvidia-cusolver-cu12==11.4.5.107 in /usr/local/lib/python3.10/dist-packages (from torch) (11.4.5.107)\n",
            "Requirement already satisfied: nvidia-cusparse-cu12==12.1.0.106 in /usr/local/lib/python3.10/dist-packages (from torch) (12.1.0.106)\n",
            "Requirement already satisfied: nvidia-nccl-cu12==2.20.5 in /usr/local/lib/python3.10/dist-packages (from torch) (2.20.5)\n",
            "Requirement already satisfied: nvidia-nvtx-cu12==12.1.105 in /usr/local/lib/python3.10/dist-packages (from torch) (12.1.105)\n",
            "Requirement already satisfied: triton==2.3.1 in /usr/local/lib/python3.10/dist-packages (from torch) (2.3.1)\n",
            "Requirement already satisfied: nvidia-nvjitlink-cu12 in /usr/local/lib/python3.10/dist-packages (from nvidia-cusolver-cu12==11.4.5.107->torch) (12.5.82)\n",
            "Requirement already satisfied: MarkupSafe>=2.0 in /usr/local/lib/python3.10/dist-packages (from jinja2->torch) (2.1.5)\n",
            "Requirement already satisfied: mpmath<1.4,>=1.1.0 in /usr/local/lib/python3.10/dist-packages (from sympy->torch) (1.3.0)\n",
            "Requirement already satisfied: torchvision in /usr/local/lib/python3.10/dist-packages (0.18.1+cu121)\n",
            "Requirement already satisfied: numpy in /usr/local/lib/python3.10/dist-packages (from torchvision) (1.25.2)\n",
            "Requirement already satisfied: torch==2.3.1 in /usr/local/lib/python3.10/dist-packages (from torchvision) (2.3.1+cu121)\n",
            "Requirement already satisfied: pillow!=8.3.*,>=5.3.0 in /usr/local/lib/python3.10/dist-packages (from torchvision) (9.4.0)\n",
            "Requirement already satisfied: filelock in /usr/local/lib/python3.10/dist-packages (from torch==2.3.1->torchvision) (3.15.4)\n",
            "Requirement already satisfied: typing-extensions>=4.8.0 in /usr/local/lib/python3.10/dist-packages (from torch==2.3.1->torchvision) (4.12.2)\n",
            "Requirement already satisfied: sympy in /usr/local/lib/python3.10/dist-packages (from torch==2.3.1->torchvision) (1.13.0)\n",
            "Requirement already satisfied: networkx in /usr/local/lib/python3.10/dist-packages (from torch==2.3.1->torchvision) (3.3)\n",
            "Requirement already satisfied: jinja2 in /usr/local/lib/python3.10/dist-packages (from torch==2.3.1->torchvision) (3.1.4)\n",
            "Requirement already satisfied: fsspec in /usr/local/lib/python3.10/dist-packages (from torch==2.3.1->torchvision) (2023.6.0)\n",
            "Requirement already satisfied: nvidia-cuda-nvrtc-cu12==12.1.105 in /usr/local/lib/python3.10/dist-packages (from torch==2.3.1->torchvision) (12.1.105)\n",
            "Requirement already satisfied: nvidia-cuda-runtime-cu12==12.1.105 in /usr/local/lib/python3.10/dist-packages (from torch==2.3.1->torchvision) (12.1.105)\n",
            "Requirement already satisfied: nvidia-cuda-cupti-cu12==12.1.105 in /usr/local/lib/python3.10/dist-packages (from torch==2.3.1->torchvision) (12.1.105)\n",
            "Requirement already satisfied: nvidia-cudnn-cu12==8.9.2.26 in /usr/local/lib/python3.10/dist-packages (from torch==2.3.1->torchvision) (8.9.2.26)\n",
            "Requirement already satisfied: nvidia-cublas-cu12==12.1.3.1 in /usr/local/lib/python3.10/dist-packages (from torch==2.3.1->torchvision) (12.1.3.1)\n",
            "Requirement already satisfied: nvidia-cufft-cu12==11.0.2.54 in /usr/local/lib/python3.10/dist-packages (from torch==2.3.1->torchvision) (11.0.2.54)\n",
            "Requirement already satisfied: nvidia-curand-cu12==10.3.2.106 in /usr/local/lib/python3.10/dist-packages (from torch==2.3.1->torchvision) (10.3.2.106)\n",
            "Requirement already satisfied: nvidia-cusolver-cu12==11.4.5.107 in /usr/local/lib/python3.10/dist-packages (from torch==2.3.1->torchvision) (11.4.5.107)\n",
            "Requirement already satisfied: nvidia-cusparse-cu12==12.1.0.106 in /usr/local/lib/python3.10/dist-packages (from torch==2.3.1->torchvision) (12.1.0.106)\n",
            "Requirement already satisfied: nvidia-nccl-cu12==2.20.5 in /usr/local/lib/python3.10/dist-packages (from torch==2.3.1->torchvision) (2.20.5)\n",
            "Requirement already satisfied: nvidia-nvtx-cu12==12.1.105 in /usr/local/lib/python3.10/dist-packages (from torch==2.3.1->torchvision) (12.1.105)\n",
            "Requirement already satisfied: triton==2.3.1 in /usr/local/lib/python3.10/dist-packages (from torch==2.3.1->torchvision) (2.3.1)\n",
            "Requirement already satisfied: nvidia-nvjitlink-cu12 in /usr/local/lib/python3.10/dist-packages (from nvidia-cusolver-cu12==11.4.5.107->torch==2.3.1->torchvision) (12.5.82)\n",
            "Requirement already satisfied: MarkupSafe>=2.0 in /usr/local/lib/python3.10/dist-packages (from jinja2->torch==2.3.1->torchvision) (2.1.5)\n",
            "Requirement already satisfied: mpmath<1.4,>=1.1.0 in /usr/local/lib/python3.10/dist-packages (from sympy->torch==2.3.1->torchvision) (1.3.0)\n",
            "Requirement already satisfied: matplotlib in /usr/local/lib/python3.10/dist-packages (3.7.1)\n",
            "Requirement already satisfied: contourpy>=1.0.1 in /usr/local/lib/python3.10/dist-packages (from matplotlib) (1.2.1)\n",
            "Requirement already satisfied: cycler>=0.10 in /usr/local/lib/python3.10/dist-packages (from matplotlib) (0.12.1)\n",
            "Requirement already satisfied: fonttools>=4.22.0 in /usr/local/lib/python3.10/dist-packages (from matplotlib) (4.53.1)\n",
            "Requirement already satisfied: kiwisolver>=1.0.1 in /usr/local/lib/python3.10/dist-packages (from matplotlib) (1.4.5)\n",
            "Requirement already satisfied: numpy>=1.20 in /usr/local/lib/python3.10/dist-packages (from matplotlib) (1.25.2)\n",
            "Requirement already satisfied: packaging>=20.0 in /usr/local/lib/python3.10/dist-packages (from matplotlib) (24.1)\n",
            "Requirement already satisfied: pillow>=6.2.0 in /usr/local/lib/python3.10/dist-packages (from matplotlib) (9.4.0)\n",
            "Requirement already satisfied: pyparsing>=2.3.1 in /usr/local/lib/python3.10/dist-packages (from matplotlib) (3.1.2)\n",
            "Requirement already satisfied: python-dateutil>=2.7 in /usr/local/lib/python3.10/dist-packages (from matplotlib) (2.8.2)\n",
            "Requirement already satisfied: six>=1.5 in /usr/local/lib/python3.10/dist-packages (from python-dateutil>=2.7->matplotlib) (1.16.0)\n"
          ]
        }
      ]
    },
    {
      "cell_type": "code",
      "execution_count": 2,
      "id": "d3f56326",
      "metadata": {
        "id": "d3f56326"
      },
      "outputs": [],
      "source": [
        "# Import libs\n",
        "import random\n",
        "\n",
        "import torch\n",
        "\n",
        "import torch.nn as nn\n",
        "import torch.nn.functional as torch_functional\n",
        "import torchvision.transforms as transforms\n",
        "\n",
        "import pyro\n",
        "import pyro.distributions as dist\n",
        "import pyro.contrib.examples.util  # patches torchvision\n",
        "from pyro.contrib.examples.util import MNIST\n",
        "from pyro.infer import SVI, Trace_ELBO\n",
        "from pyro.optim import Adam\n",
        "\n",
        "import matplotlib.pyplot as plt\n",
        "\n",
        "\n",
        "# Set seeds for reproducibility\n",
        "torch.manual_seed(0)\n",
        "pyro.set_rng_seed(0)\n",
        "random.seed(0)"
      ]
    },
    {
      "cell_type": "markdown",
      "id": "29d9a46d",
      "metadata": {
        "id": "29d9a46d"
      },
      "source": [
        "[Pyro](https://pyro.ai/) is a universal probabilistic programming language built in Python that uses PyTorch as its backend. Among its advantages are that it's:\n",
        " + **Universal**: it can represent any computable probability distribution - *\"A “universal PPL” is an extension of a Turing-complete general-purpose language, which can express models with an unbounded number of random variables. This means that random variables are not fixed statically in the model (as they are in a finite PGM) but can be created dynamically during execution.\"*\n",
        " + **Scalable**: scales to large data sets with little overhead\n",
        " + **Minimal**: implemented with a small core of powerful, composable abstractions\n",
        "\n",
        "A feature of Pyro making it particularly appealing is the ease in developing deep probabilistic models. Seamless integration with PyTorch makes this task trivial in Pyro, thus bridging the world of Bayesian modelling and deep learning. To illustrate this we'll develop an implementation of the Variational Autoencoder (VAE) first in PyTorch, and follow that up with an implementation in Pyro. This will allow us to objectively assess through experience the advantages/disadvantages of one or the other approach."
      ]
    },
    {
      "cell_type": "markdown",
      "id": "d1ccf22d",
      "metadata": {
        "id": "d1ccf22d"
      },
      "source": [
        "## VAE: A Refresher on Theory\n",
        "\n",
        "The variational autoencoder (VAE) is arguably the simplest setup that realizes deep probabilistic modeling. Below can be seen a PGM of the simplest form of the model. Having observed $N$ data points denoted $x_i$, we pose a model where each datapoint is generated by a latent random variable $z_i$. There is also a parameter $\\theta$, which is global in the sense that all the datapoints depend on it.\n",
        "\n",
        "<img src=\"https://pyro.ai/examples/_static/img/vae_model.png\" alt=\"drawing\" width=\"300\"/>\n",
        "\n",
        "We allow $x_i$ to depend on $z_i$ in a complex, non-linear way, and this mapping is usually implemented with a deep neural network with parameters $\\theta$. This complexity makes the models more powerful, but also makes inference more challenging. The joint distribution can be factorized as:\n",
        "$$\n",
        "    p(\\mathbf{x}, \\mathbf{z}) = \\prod_{i=1}^N p_{\\theta} (\\mathbf{x}_i \\mid \\mathbf{z}_i) p (\\mathbf{z}_i)\n",
        "$$\n",
        "\n",
        "The job of inference is to recover a \"sensible\" posterior over the latent variables. Just as $x_i$ depends on $z_i$ in a complex way, so might we expect the posterior over $z_i$s to be complex, and inference challenging. Working under the dome of variational inference, we need to define a family of distributions as potential posteriors over the latents.\n",
        "\n",
        "We'll use **amortized inference**. In amortized inference we introduce a single set of variational parameters $\\phi$ for **ALL** data points. The alternative would be to have variational parameters $\\lambda_i$ for each data point. This would, however, make it impossible to scale to large datasets, as then the parameter space would also explode in size. To parameterize the variational family we'll use a deep neural network.\n",
        "\n",
        "<img src=\"https://pyro.ai/examples/_static/img/vae_guide.png\" alt=\"drawing\" width=\"300\"/>"
      ]
    },
    {
      "cell_type": "markdown",
      "id": "59c9056d",
      "metadata": {
        "id": "59c9056d"
      },
      "source": [
        "## The MNIST Dataset"
      ]
    },
    {
      "cell_type": "code",
      "execution_count": 3,
      "id": "a868769b",
      "metadata": {
        "id": "a868769b"
      },
      "outputs": [],
      "source": [
        "BATCH_SIZE = 64\n",
        "USE_CUDA = True"
      ]
    },
    {
      "cell_type": "code",
      "execution_count": 4,
      "id": "5c81664c",
      "metadata": {
        "id": "5c81664c"
      },
      "outputs": [],
      "source": [
        "# Loads and batches MNIST\n",
        "def setup_data_loaders(batch_size=128, use_cuda=False):\n",
        "    root = './data'\n",
        "    download = True\n",
        "\n",
        "    # Download the MNIST train and test datasets, and transform the images and labels to tensors\n",
        "    trans = transforms.ToTensor()\n",
        "    train_set = MNIST(root=root, train=True, transform=trans,\n",
        "                      download=download)\n",
        "    test_set = MNIST(root=root, train=False, transform=trans)\n",
        "\n",
        "    # Build the dataloaders for the train and test sets\n",
        "    kwargs = {\"num_workers\": 1, \"pin_memory\": use_cuda}\n",
        "    train_loader = torch.utils.data.DataLoader(dataset=train_set,\n",
        "        batch_size=batch_size, shuffle=True, **kwargs)\n",
        "    test_loader = torch.utils.data.DataLoader(dataset=test_set,\n",
        "        batch_size=batch_size, shuffle=False, **kwargs)\n",
        "\n",
        "    return train_loader, test_loader, train_set, test_set"
      ]
    },
    {
      "cell_type": "code",
      "execution_count": 5,
      "id": "c8c1adee",
      "metadata": {
        "colab": {
          "base_uri": "https://localhost:8080/"
        },
        "id": "c8c1adee",
        "outputId": "354c4f0f-75e5-4bc7-ac81-85bc13eba62f"
      },
      "outputs": [
        {
          "output_type": "stream",
          "name": "stdout",
          "text": [
            "Downloading https://d2hg8soec8ck9v.cloudfront.net/datasets/mnist/train-images-idx3-ubyte.gz\n",
            "Downloading https://d2hg8soec8ck9v.cloudfront.net/datasets/mnist/train-images-idx3-ubyte.gz to ./data/MNIST/raw/train-images-idx3-ubyte.gz\n"
          ]
        },
        {
          "output_type": "stream",
          "name": "stderr",
          "text": [
            "100%|██████████| 9912422/9912422 [00:00<00:00, 16327302.02it/s]\n"
          ]
        },
        {
          "output_type": "stream",
          "name": "stdout",
          "text": [
            "Extracting ./data/MNIST/raw/train-images-idx3-ubyte.gz to ./data/MNIST/raw\n",
            "\n",
            "Downloading https://d2hg8soec8ck9v.cloudfront.net/datasets/mnist/train-labels-idx1-ubyte.gz\n",
            "Downloading https://d2hg8soec8ck9v.cloudfront.net/datasets/mnist/train-labels-idx1-ubyte.gz to ./data/MNIST/raw/train-labels-idx1-ubyte.gz\n"
          ]
        },
        {
          "output_type": "stream",
          "name": "stderr",
          "text": [
            "100%|██████████| 28881/28881 [00:00<00:00, 481317.95it/s]\n"
          ]
        },
        {
          "output_type": "stream",
          "name": "stdout",
          "text": [
            "Extracting ./data/MNIST/raw/train-labels-idx1-ubyte.gz to ./data/MNIST/raw\n",
            "\n",
            "Downloading https://d2hg8soec8ck9v.cloudfront.net/datasets/mnist/t10k-images-idx3-ubyte.gz\n",
            "Downloading https://d2hg8soec8ck9v.cloudfront.net/datasets/mnist/t10k-images-idx3-ubyte.gz to ./data/MNIST/raw/t10k-images-idx3-ubyte.gz\n"
          ]
        },
        {
          "output_type": "stream",
          "name": "stderr",
          "text": [
            "100%|██████████| 1648877/1648877 [00:00<00:00, 4272175.32it/s]\n"
          ]
        },
        {
          "output_type": "stream",
          "name": "stdout",
          "text": [
            "Extracting ./data/MNIST/raw/t10k-images-idx3-ubyte.gz to ./data/MNIST/raw\n",
            "\n",
            "Downloading https://d2hg8soec8ck9v.cloudfront.net/datasets/mnist/t10k-labels-idx1-ubyte.gz\n",
            "Downloading https://d2hg8soec8ck9v.cloudfront.net/datasets/mnist/t10k-labels-idx1-ubyte.gz to ./data/MNIST/raw/t10k-labels-idx1-ubyte.gz\n"
          ]
        },
        {
          "output_type": "stream",
          "name": "stderr",
          "text": [
            "100%|██████████| 4542/4542 [00:00<00:00, 5390641.98it/s]"
          ]
        },
        {
          "output_type": "stream",
          "name": "stdout",
          "text": [
            "Extracting ./data/MNIST/raw/t10k-labels-idx1-ubyte.gz to ./data/MNIST/raw\n",
            "\n"
          ]
        },
        {
          "output_type": "stream",
          "name": "stderr",
          "text": [
            "\n"
          ]
        }
      ],
      "source": [
        "(\n",
        "    mnist_train_loader,\n",
        "    mnist_test_loader,\n",
        "    mnist_train_set,\n",
        "    mnist_test_set\n",
        ") = setup_data_loaders(batch_size=BATCH_SIZE, use_cuda=USE_CUDA)"
      ]
    },
    {
      "cell_type": "code",
      "execution_count": 6,
      "id": "84d53f4f",
      "metadata": {
        "colab": {
          "base_uri": "https://localhost:8080/"
        },
        "id": "84d53f4f",
        "outputId": "21d273c3-b5ea-4bec-b164-c9ebe0867f75"
      },
      "outputs": [
        {
          "output_type": "stream",
          "name": "stdout",
          "text": [
            "torch.Size([1, 28, 28])\n",
            "5\n"
          ]
        }
      ],
      "source": [
        "# Each dataset item is a Tuple of (pixel tensor, label)\n",
        "print(mnist_train_set[11][0].shape)\n",
        "print(mnist_train_set[11][1])"
      ]
    },
    {
      "cell_type": "code",
      "source": [
        "def plot_mnist_img(pixels, label, ax=None):\n",
        "    pixels = pixels.numpy()\n",
        "    pixels = pixels.reshape((28, 28))\n",
        "\n",
        "    if ax is None:\n",
        "        fig, ax = plt.subplots()\n",
        "        show_plot = True\n",
        "    else:\n",
        "        show_plot = False\n",
        "\n",
        "    ax.set_title(f\"Label: {label}\")\n",
        "    ax.imshow(pixels, cmap=\"gray\")\n",
        "    ax.axis('off')  # Hide axes for cleaner look\n",
        "\n",
        "    if show_plot:\n",
        "        plt.show()\n",
        "\n",
        "# Create a figure and a 2x3 grid of subplots\n",
        "fig, axes = plt.subplots(2, 3, figsize=(10, 7))\n",
        "\n",
        "# Flatten the axes array for easier iteration\n",
        "axes = axes.flatten()\n",
        "\n",
        "for ax in axes:\n",
        "    rand_item = random.choice(mnist_test_set)\n",
        "    pixels_tensor, label = rand_item\n",
        "\n",
        "    plot_mnist_img(pixels_tensor, label, ax=ax)\n",
        "\n",
        "plt.tight_layout()\n",
        "plt.show()"
      ],
      "metadata": {
        "colab": {
          "base_uri": "https://localhost:8080/",
          "height": 710
        },
        "id": "mS4mk6IHab4Y",
        "outputId": "2fb7b9a8-280f-4445-aee5-7907b4a26015"
      },
      "id": "mS4mk6IHab4Y",
      "execution_count": 20,
      "outputs": [
        {
          "output_type": "display_data",
          "data": {
            "text/plain": [
              "<Figure size 1000x700 with 6 Axes>"
            ],
            "image/png": "[encoded data removed]"
          },
          "metadata": {}
        }
      ]
    },
    {
      "cell_type": "markdown",
      "id": "f4cf375e",
      "metadata": {
        "id": "f4cf375e"
      },
      "source": [
        "# Define the Encoder and Decoder Modules\n",
        "\n",
        "We define our neural network by subclassing `nn.Module`, and initialize the neural network layers in `__init__`. Every `nn.Module` subclass implements the operations on input data in the `forward()` method.\n",
        "\n",
        "The `forward()` method of the encoder expects as argument a tensor of dimensions *batch_dim* x 28 x 28, and infers the mean and log-variance of the latent space Gaussians. Conversely, the decoder takes a tensor of dimensions *batch_dim* x *latent_space_size* and reconstructs the original image."
      ]
    },
    {
      "cell_type": "code",
      "execution_count": 21,
      "id": "654d3a06",
      "metadata": {
        "id": "654d3a06"
      },
      "outputs": [],
      "source": [
        "class Encoder(nn.Module):\n",
        "    def __init__(self, z_dim, hidden_dim):\n",
        "        super().__init__()\n",
        "\n",
        "        # Setup three linear transformations\n",
        "        self.fc1 = nn.Linear(784, hidden_dim)\n",
        "        self.fc21 = nn.Linear(hidden_dim, z_dim)\n",
        "        self.fc22 = nn.Linear(hidden_dim, z_dim)\n",
        "\n",
        "        # Setup the non-linearities\n",
        "        self.softplus = nn.Softplus()\n",
        "\n",
        "    def forward(self, x):\n",
        "        # Define the forward computation on the image x\n",
        "        # First shape the mini-batch to have pixels in the rightmost dimension\n",
        "        x = x.reshape(-1, 784)\n",
        "\n",
        "        # Then compute the hidden units\n",
        "        hidden = self.softplus(self.fc1(x))\n",
        "\n",
        "        # Return a mean vector and a the log variance\n",
        "        # each of size batch_size x z_dim\n",
        "        z_loc = self.fc21(hidden)\n",
        "        z_logvar = self.fc22(hidden)\n",
        "\n",
        "        return z_loc, z_logvar"
      ]
    },
    {
      "cell_type": "code",
      "execution_count": 22,
      "id": "5f20de2f",
      "metadata": {
        "id": "5f20de2f"
      },
      "outputs": [],
      "source": [
        "class Decoder(nn.Module):\n",
        "    def __init__(self, z_dim, hidden_dim):\n",
        "        super().__init__()\n",
        "\n",
        "        # Setup the two linear transformations used\n",
        "        self.fc1 = nn.Linear(z_dim, hidden_dim)\n",
        "        self.fc21 = nn.Linear(hidden_dim, 784)\n",
        "\n",
        "        # Setup the non-linearities\n",
        "        self.softplus = nn.Softplus()\n",
        "        self.sigmoid = nn.Sigmoid()\n",
        "\n",
        "    def forward(self, z):\n",
        "        # Define the forward computation on the latent z\n",
        "        # first compute the hidden units\n",
        "        hidden = self.softplus(self.fc1(z))\n",
        "\n",
        "        # Return the parameter for the output Bernoulli\n",
        "        # each is of size batch_size x 784\n",
        "        loc_img = self.sigmoid(self.fc21(hidden))\n",
        "        loc_img = loc_img.view(-1, 28, 28)\n",
        "\n",
        "        return loc_img"
      ]
    },
    {
      "cell_type": "code",
      "execution_count": 23,
      "id": "6720bb57",
      "metadata": {
        "colab": {
          "base_uri": "https://localhost:8080/"
        },
        "id": "6720bb57",
        "outputId": "45aa065a-ef24-4c0f-8f03-a3fa4ec23644"
      },
      "outputs": [
        {
          "output_type": "stream",
          "name": "stdout",
          "text": [
            "Encoder(\n",
            "  (fc1): Linear(in_features=784, out_features=100, bias=True)\n",
            "  (fc21): Linear(in_features=100, out_features=50, bias=True)\n",
            "  (fc22): Linear(in_features=100, out_features=50, bias=True)\n",
            "  (softplus): Softplus(beta=1.0, threshold=20.0)\n",
            ")\n",
            "Decoder(\n",
            "  (fc1): Linear(in_features=50, out_features=100, bias=True)\n",
            "  (fc21): Linear(in_features=100, out_features=784, bias=True)\n",
            "  (softplus): Softplus(beta=1.0, threshold=20.0)\n",
            "  (sigmoid): Sigmoid()\n",
            ")\n"
          ]
        }
      ],
      "source": [
        "encoder = Encoder(z_dim=50, hidden_dim=100)\n",
        "print(encoder)\n",
        "\n",
        "decoder = Decoder(z_dim=50, hidden_dim=100)\n",
        "print(decoder)"
      ]
    },
    {
      "cell_type": "markdown",
      "id": "ee943fce",
      "metadata": {
        "id": "ee943fce"
      },
      "source": [
        "# The Variational Autoencoder in PyTorch\n",
        "\n",
        "To allow the passage of the gradient, we use the reparameterization trick for the Gaussian distribution:\n",
        "$$\n",
        "    \\mathbf{z} = \\mathbf{\\mu} + \\mathbf{\\sigma} \\mathbf{\\epsilon}\n",
        "$$\n",
        "where $\\mathbf{\\epsilon} \\sim \\mathcal{N}(0, 1)$\n",
        "\n",
        "Our loss function is the ELBO:\n",
        "$$\n",
        "    \\textrm{ELBO} = \\mathbb{E}_{q_{\\lambda} (\\mathbf{z})} \\left[ \\log p_{\\theta} (\\mathbf{x}, \\mathbf{z}) - \\log q_{\\lambda} (\\mathbf{z}) \\right]\n",
        "$$\n",
        "\n",
        "$$\n",
        "    \\textrm{ELBO} = \\mathbb{E}_{q_{\\lambda} (\\mathbf{z})} \\left[ \\log p_{\\theta}(\\mathbf{x} \\mid \\mathbf{z}) \\right] - D_{\\text{KL}} \\left[ q_{\\lambda}(\\mathbf{z} \\mid \\mathbf{x}) \\mid \\mid p_{\\theta}(\\mathbf{z}) \\right]\n",
        "$$\n",
        "\n",
        "We've chosen as our variational family a mean-field Gaussian posterior for our latent space. We can thus derive and use the closed form ELBO for Gaussian latents (see [here](https://arxiv.org/pdf/1907.08956.pdf) for a full derivation):\n",
        "$$\n",
        "    \\mathcal{L} = - \\sum_{j=1}^J \\frac{1}{2} \\left[ 1 + \\log \\sigma_j^2 - \\sigma_j^2 - \\mu_j^2 \\right] - \\frac{1}{L} \\sum_l \\mathbb{E}_{z \\sim q(z \\mid x_l)} \\left[ \\log p (x_l \\mid z_l) \\right]\n",
        "$$"
      ]
    },
    {
      "cell_type": "code",
      "execution_count": 24,
      "id": "d070f6e3",
      "metadata": {
        "id": "d070f6e3"
      },
      "outputs": [],
      "source": [
        "class VAEPyTorch(nn.Module):\n",
        "    def __init__(self, z_dim=50, hidden_dim=400, use_cuda=False):\n",
        "        super().__init__()\n",
        "\n",
        "        self.encoder = Encoder(z_dim, hidden_dim)\n",
        "        self.decoder = Decoder(z_dim, hidden_dim)\n",
        "\n",
        "        if use_cuda:\n",
        "            # calling cuda() here will put all the parameters of\n",
        "            # the encoder and decoder networks into GPU memory\n",
        "            self.cuda()\n",
        "\n",
        "        self.use_cuda = use_cuda\n",
        "        self.z_dim = z_dim\n",
        "\n",
        "    def forward(self, input_data: torch.Tensor):\n",
        "        mu, logvar = self.encoder(input_data)\n",
        "        latent_sample = self.reparameterize(mu, logvar)\n",
        "        reconstructed_inputs = self.decoder(latent_sample)\n",
        "\n",
        "        return input_data, reconstructed_inputs, mu, logvar\n",
        "\n",
        "    def reparameterize(self, mu: torch.Tensor, logvar: torch.Tensor) -> torch.Tensor:\n",
        "        \"\"\"\n",
        "        Reparameterization trick to sample from N(mu, var) from\n",
        "        N(0,1).\n",
        "        :param mu: (Tensor) Mean of the latent Gaussian [B x D]\n",
        "        :param logvar: (Tensor) Standard deviation of the latent Gaussian [B x D]\n",
        "        :return: (Tensor) [B x D]\n",
        "        \"\"\"\n",
        "        std = torch.exp(0.5 * logvar)\n",
        "        eps = torch.randn_like(std)\n",
        "\n",
        "        return mu + std * eps\n",
        "\n",
        "\n",
        "    def loss_function(\n",
        "        self, input_data, reconstructions, mu, logvar, beta\n",
        "    ) -> dict:\n",
        "        \"\"\"\n",
        "        Computes the VAE loss function.\n",
        "        KL(N(\\mu, \\sigma), N(0, 1)) = \\log \\frac{1}{\\sigma} + \\frac{\\sigma^2 + \\mu^2}{2} - \\frac{1}{2}\n",
        "        :param args:\n",
        "        :param kwargs:\n",
        "        :return:\n",
        "        \"\"\"\n",
        "        recons_loss = torch_functional.mse_loss(reconstructions, input_data)\n",
        "        kld_loss = torch.mean(-0.5 * torch.sum(1 + logvar - mu ** 2 - logvar.exp(), dim = 1), dim = 0)\n",
        "\n",
        "        loss = recons_loss + beta * kld_loss\n",
        "\n",
        "        return {\"total_loss\": loss, \"reconstruction_loss\": recons_loss.detach(), \"KLD\": -kld_loss.detach()}"
      ]
    },
    {
      "cell_type": "markdown",
      "id": "a99099f9",
      "metadata": {
        "id": "a99099f9"
      },
      "source": [
        "Now that we have our data and our model we can proceed with training.\n",
        "\n",
        "\n",
        "Inside the training loop, optimization happens in three steps:\n",
        " - Call `optimizer.zero_grad()` to reset the gradients of model parameters. Gradients by default add up; to prevent double-counting, we explicitly zero them at each iteration.\n",
        " - Backpropagate the prediction loss with a call to `loss.backward()`. PyTorch deposits the gradients of the loss w.r.t. each parameter.\n",
        " - Once we have our gradients, we call `optimizer.step()` to adjust the parameters by the gradients collected in the backward pass."
      ]
    },
    {
      "cell_type": "code",
      "execution_count": 25,
      "id": "949db5f4",
      "metadata": {
        "id": "949db5f4"
      },
      "outputs": [],
      "source": [
        "NUM_EPOCHS = 5\n",
        "LEARNING_RATE = 0.001"
      ]
    },
    {
      "cell_type": "code",
      "execution_count": 26,
      "id": "346d93a4",
      "metadata": {
        "id": "346d93a4"
      },
      "outputs": [],
      "source": [
        "vae_pytorch = VAEPyTorch(z_dim=50, hidden_dim=100, use_cuda=USE_CUDA)\n",
        "optimizer = torch.optim.Adam(vae_pytorch.parameters(), lr=LEARNING_RATE)"
      ]
    },
    {
      "cell_type": "code",
      "execution_count": 27,
      "id": "f1851243",
      "metadata": {
        "colab": {
          "base_uri": "https://localhost:8080/"
        },
        "id": "f1851243",
        "outputId": "ea364703-7f00-4cc4-ce6e-41ebfb881e0b"
      },
      "outputs": [
        {
          "output_type": "stream",
          "name": "stdout",
          "text": [
            "epoch_num: 1; batch_num: 0; loss: 0.254559\n",
            "epoch_num: 1; batch_num: 400; loss: 0.061475\n",
            "epoch_num: 1; batch_num: 800; loss: 0.051233\n",
            "epoch_num: 2; batch_num: 0; loss: 0.048064\n",
            "epoch_num: 2; batch_num: 400; loss: 0.048623\n",
            "epoch_num: 2; batch_num: 800; loss: 0.044071\n",
            "epoch_num: 3; batch_num: 0; loss: 0.044753\n",
            "epoch_num: 3; batch_num: 400; loss: 0.040002\n",
            "epoch_num: 3; batch_num: 800; loss: 0.040051\n",
            "epoch_num: 4; batch_num: 0; loss: 0.044244\n",
            "epoch_num: 4; batch_num: 400; loss: 0.040881\n",
            "epoch_num: 4; batch_num: 800; loss: 0.039218\n",
            "epoch_num: 5; batch_num: 0; loss: 0.040724\n",
            "epoch_num: 5; batch_num: 400; loss: 0.041050\n",
            "epoch_num: 5; batch_num: 800; loss: 0.035521\n"
          ]
        }
      ],
      "source": [
        "for epoch_num in range(NUM_EPOCHS):\n",
        "    for batch_num, (pixels, _) in enumerate(mnist_train_loader):\n",
        "        if USE_CUDA:\n",
        "            pixels = pixels.to(\"cuda\")\n",
        "            # labels = labels.to(\"cuda\")\n",
        "\n",
        "        # Do NOT use directly forward()!\n",
        "        input_data, reconstructed_inputs, mu, logvar = vae_pytorch(pixels)\n",
        "        losses = vae_pytorch.loss_function(\n",
        "            pixels.squeeze(), reconstructed_inputs, mu, logvar, 0.001\n",
        "        )\n",
        "        loss = losses[\"total_loss\"]\n",
        "\n",
        "        # Backpropagation and optimization\n",
        "        optimizer.zero_grad()\n",
        "        loss.backward()\n",
        "        optimizer.step()\n",
        "\n",
        "        if batch_num % 400 == 0:\n",
        "            print(f\"epoch_num: {epoch_num + 1}; batch_num: {batch_num}; loss: {loss.item():>7f}\")"
      ]
    },
    {
      "cell_type": "code",
      "execution_count": 28,
      "id": "5169064d",
      "metadata": {
        "colab": {
          "base_uri": "https://localhost:8080/",
          "height": 839
        },
        "id": "5169064d",
        "outputId": "ce3f2279-859f-4127-ce28-a6538a6beace"
      },
      "outputs": [
        {
          "output_type": "display_data",
          "data": {
            "text/plain": [
              "<Figure size 640x480 with 1 Axes>"
            ],
            "image/png": "[encoded data removed]"
          },
          "metadata": {}
        },
        {
          "output_type": "display_data",
          "data": {
            "text/plain": [
              "<Figure size 640x480 with 1 Axes>"
            ],
            "image/png": "[encoded data removed]"
          },
          "metadata": {}
        }
      ],
      "source": [
        "# Pick a random item from the test set\n",
        "rand_item = random.choice(mnist_test_set)\n",
        "pixels_tensor, label = rand_item\n",
        "\n",
        "# Run it through the model to get the reconstruction\n",
        "if USE_CUDA:\n",
        "    _, reconstructed_inputs, _, _ = vae_pytorch(pixels_tensor.cuda())\n",
        "    reconstructed_pixels = reconstructed_inputs.detach().cpu()\n",
        "else:\n",
        "    _, reconstructed_inputs, _, _ = vae_pytorch(pixels_tensor)\n",
        "    reconstructed_pixels = reconstructed_inputs.detach()\n",
        "\n",
        "# Plot the original and reconstructed image\n",
        "plot_mnist_img(pixels_tensor, label)\n",
        "plot_mnist_img(reconstructed_pixels, label)"
      ]
    },
    {
      "cell_type": "markdown",
      "id": "19f65f84",
      "metadata": {
        "id": "19f65f84"
      },
      "source": [
        "# The Variational Autoencoder in Pyro\n",
        "\n",
        "Probabilistic models in Pyro are specified as Python functions `model(*args, **kwargs)` that generate observed data from latent variables using special primitive functions whose behavior can be changed by Pyro’s internals depending on the high-level computation being performed.\n",
        "\n",
        "Specifically, the different mathematical pieces of `model()` are encoded via the mapping:\n",
        " + latent random variables - `pyro.sample`\n",
        " + observed random variables - `pyro.sample` with the `obs` keyword argument\n",
        " + learnable parameters - `pyro.param`\n",
        " + plates - `pyro.plate` context managers\n",
        "\n",
        "The basic idea behind VI is that we introduce a parameterized distribution $q_{\\phi}(\\mathbf{z})$ called the variational distribution that will serve as an approximation to the posterior. We can think of $\\phi$ as parameterizing a space or family of probability distributions. Our goal will be to find the (not necessarily unique) probability distribution in that space that is the best possible approximation to the posterior distribution.\n",
        "\n",
        "Just like the model, the guide is encoded as a stochastic function `guide()` that contains `pyro.sample` and `pyro.param` statements, but can't contain observed data. Pyro furthermore enforces that `model()` and `guide()` have the same call signature, i.e. both callables should take the same arguments."
      ]
    },
    {
      "cell_type": "markdown",
      "id": "-yGNL-HytRV1",
      "metadata": {
        "id": "-yGNL-HytRV1"
      },
      "source": [
        "What happens under the hood is Black Box Variational Inference that, unlike before, doesn't require us to perform any significant model-specific analysis.\n",
        "Instead, stochastic optimization of the variational objective is performed, where the noisy gradient of the ELBO objective is computed from Monte Carlo samples from the variational distribution.\n",
        "\n",
        "The algorithm used is briefly described below, but refer to [the paper](http://proceedings.mlr.press/v33/ranganath14.pdf) for additional details:\n",
        "\n",
        "**Inputs:** data $x$, joint distribution $p$, mean field variational family $q$.\n",
        "1. **Initialize:** $\\lambda$ randomly, $t = 1$.\n",
        "2. **repeat**\n",
        "   - **Draw $S$ samples from $q$:**\n",
        "\n",
        "     $\n",
        "     \\text{for } s = 1 \\text{ to } S \\text{ do} \\\\\n",
        "     $\n",
        "\n",
        "     $\n",
        "     \\quad z^{(s)} \\sim q(\\cdot | \\lambda) \\\\\n",
        "     $\n",
        "\n",
        "     $\n",
        "     \\text{end for}\n",
        "     $\n",
        "   - **Set $\\epsilon_t$ to the $t$-th value of a Robbins-Monro sequence**\n",
        "   - **Update $\\lambda$:**\n",
        "     $$\n",
        "     \\lambda = \\lambda + \\epsilon_t \\frac{1}{S} \\sum_{s=1}^S \\nabla_\\lambda \\log q(z^{(s)} | \\lambda)\n",
        "     \\left( \\log p(x, z^{(s)}) - \\log q(z^{(s)} | \\lambda) \\right)\n",
        "     $$\n",
        "   - **Increment $t$:**\n",
        "     $$\n",
        "     t = t + 1\n",
        "     $$\n",
        "3. **until** change in $\\lambda$ is less than $0.01$."
      ]
    },
    {
      "cell_type": "code",
      "execution_count": 29,
      "id": "f6889a21",
      "metadata": {
        "id": "f6889a21"
      },
      "outputs": [],
      "source": [
        "class VAEPyro(nn.Module):\n",
        "    def __init__(self, z_dim=50, hidden_dim=400, use_cuda=False):\n",
        "        super().__init__()\n",
        "\n",
        "        # Create the encoder and decoder networks\n",
        "        self.encoder = Encoder(z_dim, hidden_dim)\n",
        "        self.decoder = Decoder(z_dim, hidden_dim)\n",
        "\n",
        "        if use_cuda:\n",
        "            # calling cuda() here will put all the parameters of\n",
        "            # the encoder and decoder networks into gpu memory\n",
        "            self.cuda()\n",
        "\n",
        "        self.use_cuda = use_cuda\n",
        "        self.z_dim = z_dim\n",
        "\n",
        "    # Define the model p(x|z)p(z)\n",
        "    def model(self, x):\n",
        "        # register PyTorch module `decoder` with Pyro\n",
        "        pyro.module(\"decoder\", self.decoder)\n",
        "\n",
        "        with pyro.plate(\"data\", x.shape[0]):\n",
        "            # setup hyperparameters for prior p(z)\n",
        "            z_loc = x.new_zeros(torch.Size((x.shape[0], self.z_dim)))\n",
        "            z_scale = x.new_ones(torch.Size((x.shape[0], self.z_dim)))\n",
        "\n",
        "            # sample from prior (value will be sampled by guide when computing the ELBO)\n",
        "            z = pyro.sample(\"latent\", dist.Normal(z_loc, z_scale).to_event(1))\n",
        "\n",
        "            # decode the latent code z\n",
        "            loc_img = self.decoder(z).view(-1, 784)\n",
        "            # score against actual images\n",
        "            pyro.sample(\"obs\", dist.Bernoulli(loc_img).to_event(1), obs=x.reshape(-1, 784))\n",
        "\n",
        "    # Define the guide (i.e. variational distribution) q(z|x)\n",
        "    def guide(self, x):\n",
        "        # register PyTorch module `encoder` with Pyro\n",
        "        pyro.module(\"encoder\", self.encoder)\n",
        "\n",
        "        with pyro.plate(\"data\", x.shape[0]):\n",
        "            # use the encoder to get the parameters used to define q(z|x)\n",
        "            z_loc, logvar = self.encoder(x)\n",
        "            z_scale = torch.exp(logvar)\n",
        "\n",
        "            # sample the latent code z\n",
        "            pyro.sample(\"latent\", dist.Normal(z_loc, z_scale).to_event(1))\n",
        "\n",
        "    # define a helper function for reconstructing images\n",
        "    def reconstruct_img(self, x):\n",
        "        # encode image x\n",
        "        z_loc, logvar = self.encoder(x)\n",
        "        z_scale = torch.exp(logvar)\n",
        "\n",
        "        # sample in latent space\n",
        "        z = dist.Normal(z_loc, z_scale).sample()\n",
        "\n",
        "        # decode the image (note we don't sample in image space)\n",
        "        loc_img = self.decoder(z)\n",
        "        return loc_img"
      ]
    },
    {
      "cell_type": "code",
      "execution_count": 30,
      "id": "a39ba0ef",
      "metadata": {
        "id": "a39ba0ef"
      },
      "outputs": [],
      "source": [
        "def train(svi, train_loader, use_cuda=False):\n",
        "    # initialize loss accumulator\n",
        "    epoch_loss = 0.\n",
        "    # do a training epoch over each mini-batch x returned\n",
        "    # by the data loader\n",
        "    for x, _ in train_loader:\n",
        "        # if on GPU put mini-batch into CUDA memory\n",
        "        if use_cuda:\n",
        "            x = x.cuda()\n",
        "        # do ELBO gradient and accumulate loss\n",
        "        epoch_loss += svi.step(x)\n",
        "\n",
        "    # return epoch loss\n",
        "    normalizer_train = len(train_loader.dataset)\n",
        "    total_epoch_loss_train = epoch_loss / normalizer_train\n",
        "\n",
        "    return total_epoch_loss_train"
      ]
    },
    {
      "cell_type": "code",
      "execution_count": 31,
      "id": "98c3207f",
      "metadata": {
        "id": "98c3207f"
      },
      "outputs": [],
      "source": [
        "def evaluate(svi, test_loader, use_cuda=False):\n",
        "    # initialize loss accumulator\n",
        "    test_loss = 0.\n",
        "    # compute the loss over the entire test set\n",
        "\n",
        "    for x, _ in test_loader:\n",
        "        # if on GPU put mini-batch into CUDA memory\n",
        "        if use_cuda:\n",
        "            x = x.cuda()\n",
        "        # compute ELBO estimate and accumulate loss\n",
        "        test_loss += svi.evaluate_loss(x)\n",
        "\n",
        "    normalizer_test = len(test_loader.dataset)\n",
        "    total_epoch_loss_test = test_loss / normalizer_test\n",
        "\n",
        "    return total_epoch_loss_test"
      ]
    },
    {
      "cell_type": "code",
      "execution_count": 32,
      "id": "c412bd67",
      "metadata": {
        "id": "c412bd67"
      },
      "outputs": [],
      "source": [
        "pyro.distributions.enable_validation(False)"
      ]
    },
    {
      "cell_type": "code",
      "execution_count": 33,
      "id": "b78f1d84",
      "metadata": {
        "colab": {
          "base_uri": "https://localhost:8080/"
        },
        "id": "b78f1d84",
        "outputId": "cfd78707-9b4d-453a-8c92-f12044651e3b"
      },
      "outputs": [
        {
          "output_type": "stream",
          "name": "stdout",
          "text": [
            "[epoch 001]  average training loss: 160.4150\n",
            "[epoch 002]  average training loss: 125.5594\n",
            "[epoch 003]  average training loss: 116.1663\n",
            "[epoch 004]  average training loss: 112.4026\n",
            "[epoch 005]  average training loss: 110.2676\n"
          ]
        }
      ],
      "source": [
        "train_loader, test_loader = mnist_train_loader, mnist_test_loader\n",
        "\n",
        "# clear param store\n",
        "pyro.clear_param_store()\n",
        "\n",
        "# setup the VAE\n",
        "vae = VAEPyro(use_cuda=USE_CUDA)\n",
        "\n",
        "# setup the optimizer\n",
        "adam_args = {\"lr\": LEARNING_RATE}\n",
        "optimizer = Adam(adam_args)\n",
        "\n",
        "# setup the inference algorithm\n",
        "svi = SVI(vae.model, vae.guide, optimizer, loss=Trace_ELBO())\n",
        "\n",
        "train_elbo = []\n",
        "test_elbo = []\n",
        "# training loop\n",
        "for epoch in range(NUM_EPOCHS):\n",
        "    total_epoch_loss_train = train(svi, train_loader, use_cuda=USE_CUDA)\n",
        "    train_elbo.append(-total_epoch_loss_train)\n",
        "    print(\"[epoch %03d]  average training loss: %.4f\" % (epoch + 1, total_epoch_loss_train))"
      ]
    },
    {
      "cell_type": "code",
      "execution_count": 34,
      "id": "eccd4718",
      "metadata": {
        "colab": {
          "base_uri": "https://localhost:8080/",
          "height": 839
        },
        "id": "eccd4718",
        "outputId": "8605ad21-3042-4837-9dd5-d3873afe82de"
      },
      "outputs": [
        {
          "output_type": "display_data",
          "data": {
            "text/plain": [
              "<Figure size 640x480 with 1 Axes>"
            ],
            "image/png": "[encoded data removed]"
          },
          "metadata": {}
        },
        {
          "output_type": "display_data",
          "data": {
            "text/plain": [
              "<Figure size 640x480 with 1 Axes>"
            ],
            "image/png": "[encoded data removed]"
          },
          "metadata": {}
        }
      ],
      "source": [
        "rand_item = random.choice(mnist_test_set)\n",
        "pixels_tensor, label = rand_item\n",
        "\n",
        "if USE_CUDA:\n",
        "    reconstructed_inputs = vae.reconstruct_img(pixels_tensor.cuda())\n",
        "    reconstructed_pixels = reconstructed_inputs.detach().cpu()\n",
        "else:\n",
        "    reconstructed_inputs = vae.reconstruct_img(pixels_tensor)\n",
        "    reconstructed_pixels = reconstructed_inputs.detach()\n",
        "\n",
        "plot_mnist_img(pixels_tensor, label)\n",
        "plot_mnist_img(reconstructed_pixels, label)"
      ]
    },
    {
      "cell_type": "markdown",
      "id": "d3340dc9",
      "metadata": {
        "id": "d3340dc9"
      },
      "source": [
        "# References\n",
        "[1] Blei, D. M., Ng, A. Y., & Jordan, M. I. (2003). Latent dirichlet allocation. Journal of machine Learning research, 3(Jan), 993-1022.\n",
        "\n",
        "[2] Blei, D. M., Kucukelbir, A., & McAuliffe, J. D. (2017). Variational inference: A review for statisticians. Journal of the American statistical Association, 112(518), 859-877.\n",
        "\n",
        "[3] Ranganath, R., Gerrish, S., & Blei, D. (2014, April). Black box variational inference. In Artificial intelligence and statistics (pp. 814-822). PMLR.\n",
        "\n",
        "[4] Nunn, N., & Puga, D. (2012). Ruggedness: The blessing of bad geography in Africa. Review of Economics and Statistics, 94(1), 20-36.\n",
        "\n",
        "[5] Kingma, D. P., & Welling, M. (2013). Auto-encoding variational bayes. arXiv preprint arXiv:1312.6114.\n",
        "\n",
        "\n",
        "***Code and examples adapted from:***\n",
        "\n",
        "https://pyro.ai/examples/intro_long.html\n",
        "\n",
        "https://pyro.ai/examples/svi_part_i.html\n",
        "\n",
        "https://pyro.ai/examples/svi_part_iii.html\n",
        "\n",
        "https://pyro.ai/examples/vae.html\n",
        "\n",
        "https://pytorch.org/tutorials/beginner/basics/intro.html\n"
      ]
    }
  ],
  "metadata": {
    "accelerator": "GPU",
    "colab": {
      "gpuType": "T4",
      "provenance": []
    },
    "kernelspec": {
      "display_name": "Python 3",
      "name": "python3"
    },
    "language_info": {
      "codemirror_mode": {
        "name": "ipython",
        "version": 3
      },
      "file_extension": ".py",
      "mimetype": "text/x-python",
      "name": "python",
      "nbconvert_exporter": "python",
      "pygments_lexer": "ipython3",
      "version": "3.9.12"
    }
  },
  "nbformat": 4,
  "nbformat_minor": 5
}